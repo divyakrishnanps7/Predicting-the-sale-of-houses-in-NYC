{
 "cells": [
  {
   "cell_type": "code",
   "execution_count": 4,
   "metadata": {
    "collapsed": true
   },
   "outputs": [],
   "source": [
    "import pandas as pd\n",
    "import numpy as np"
   ]
  },
  {
   "cell_type": "code",
   "execution_count": 5,
   "metadata": {
    "collapsed": true
   },
   "outputs": [],
   "source": [
    "data = pd.read_csv('19b7b17c-e655-4013-b4d1-7daa9727225f_NewYorkCityPropertySales.csv')"
   ]
  },
  {
   "cell_type": "code",
   "execution_count": 6,
   "metadata": {},
   "outputs": [
    {
     "data": {
      "text/html": [
       "<div>\n",
       "<style>\n",
       "    .dataframe thead tr:only-child th {\n",
       "        text-align: right;\n",
       "    }\n",
       "\n",
       "    .dataframe thead th {\n",
       "        text-align: left;\n",
       "    }\n",
       "\n",
       "    .dataframe tbody tr th {\n",
       "        vertical-align: top;\n",
       "    }\n",
       "</style>\n",
       "<table border=\"1\" class=\"dataframe\">\n",
       "  <thead>\n",
       "    <tr style=\"text-align: right;\">\n",
       "      <th></th>\n",
       "      <th>borough_code</th>\n",
       "      <th>borough_code_definition</th>\n",
       "      <th>neighborhood</th>\n",
       "      <th>building_class_category_code</th>\n",
       "      <th>building_class_category_code_definition</th>\n",
       "      <th>tax_class_at_present_code</th>\n",
       "      <th>tax_class_at_present_code_definition</th>\n",
       "      <th>building_class_at_present_code</th>\n",
       "      <th>building_class_at_present_code_definition</th>\n",
       "      <th>address</th>\n",
       "      <th>...</th>\n",
       "      <th>exempt_value_land</th>\n",
       "      <th>exempt_value_total</th>\n",
       "      <th>year_altered_one</th>\n",
       "      <th>year_altered_two</th>\n",
       "      <th>historical_district_name</th>\n",
       "      <th>maximum_allowable_residential_far</th>\n",
       "      <th>maximum_allowable_commercial_far</th>\n",
       "      <th>maximum_allowable_facility_far</th>\n",
       "      <th>x_coordinate</th>\n",
       "      <th>y_coordinate</th>\n",
       "    </tr>\n",
       "  </thead>\n",
       "  <tbody>\n",
       "    <tr>\n",
       "      <th>0</th>\n",
       "      <td>1</td>\n",
       "      <td>Manhattan</td>\n",
       "      <td>ALPHABET CITY</td>\n",
       "      <td>07</td>\n",
       "      <td>RENTALS - WALKUP APARTMENTS</td>\n",
       "      <td>2</td>\n",
       "      <td>Includes all other property that is primarily ...</td>\n",
       "      <td>C4</td>\n",
       "      <td>OLD LAW TENEMENT</td>\n",
       "      <td>738 EAST 6 STREET</td>\n",
       "      <td>...</td>\n",
       "      <td>NaN</td>\n",
       "      <td>NaN</td>\n",
       "      <td>NaN</td>\n",
       "      <td>NaN</td>\n",
       "      <td>NaN</td>\n",
       "      <td>4.0</td>\n",
       "      <td>NaN</td>\n",
       "      <td>4.0</td>\n",
       "      <td>990363.0</td>\n",
       "      <td>202588.0</td>\n",
       "    </tr>\n",
       "    <tr>\n",
       "      <th>1</th>\n",
       "      <td>1</td>\n",
       "      <td>Manhattan</td>\n",
       "      <td>ALPHABET CITY</td>\n",
       "      <td>07</td>\n",
       "      <td>RENTALS - WALKUP APARTMENTS</td>\n",
       "      <td>2</td>\n",
       "      <td>Includes all other property that is primarily ...</td>\n",
       "      <td>C7</td>\n",
       "      <td>WALK-UP APT. OVER SIX FAMILIES WITH STORES</td>\n",
       "      <td>27 AVENUE C</td>\n",
       "      <td>...</td>\n",
       "      <td>NaN</td>\n",
       "      <td>NaN</td>\n",
       "      <td>NaN</td>\n",
       "      <td>NaN</td>\n",
       "      <td>NaN</td>\n",
       "      <td>4.0</td>\n",
       "      <td>NaN</td>\n",
       "      <td>4.0</td>\n",
       "      <td>989508.0</td>\n",
       "      <td>202158.0</td>\n",
       "    </tr>\n",
       "    <tr>\n",
       "      <th>2</th>\n",
       "      <td>1</td>\n",
       "      <td>Manhattan</td>\n",
       "      <td>ALPHABET CITY</td>\n",
       "      <td>07</td>\n",
       "      <td>RENTALS - WALKUP APARTMENTS</td>\n",
       "      <td>2A</td>\n",
       "      <td>Includes all other property that is primarily ...</td>\n",
       "      <td>C2</td>\n",
       "      <td>FIVE TO SIX FAMILIES</td>\n",
       "      <td>151 AVENUE B</td>\n",
       "      <td>...</td>\n",
       "      <td>NaN</td>\n",
       "      <td>NaN</td>\n",
       "      <td>NaN</td>\n",
       "      <td>NaN</td>\n",
       "      <td>NaN</td>\n",
       "      <td>4.0</td>\n",
       "      <td>NaN</td>\n",
       "      <td>4.0</td>\n",
       "      <td>989831.0</td>\n",
       "      <td>203960.0</td>\n",
       "    </tr>\n",
       "    <tr>\n",
       "      <th>3</th>\n",
       "      <td>1</td>\n",
       "      <td>Manhattan</td>\n",
       "      <td>ALPHABET CITY</td>\n",
       "      <td>07</td>\n",
       "      <td>RENTALS - WALKUP APARTMENTS</td>\n",
       "      <td>2A</td>\n",
       "      <td>Includes all other property that is primarily ...</td>\n",
       "      <td>C2</td>\n",
       "      <td>FIVE TO SIX FAMILIES</td>\n",
       "      <td>153 AVENUE B</td>\n",
       "      <td>...</td>\n",
       "      <td>NaN</td>\n",
       "      <td>NaN</td>\n",
       "      <td>1984.0</td>\n",
       "      <td>NaN</td>\n",
       "      <td>NaN</td>\n",
       "      <td>4.0</td>\n",
       "      <td>NaN</td>\n",
       "      <td>4.0</td>\n",
       "      <td>989833.0</td>\n",
       "      <td>203986.0</td>\n",
       "    </tr>\n",
       "    <tr>\n",
       "      <th>4</th>\n",
       "      <td>1</td>\n",
       "      <td>Manhattan</td>\n",
       "      <td>ALPHABET CITY</td>\n",
       "      <td>07</td>\n",
       "      <td>RENTALS - WALKUP APARTMENTS</td>\n",
       "      <td>2</td>\n",
       "      <td>Includes all other property that is primarily ...</td>\n",
       "      <td>C7</td>\n",
       "      <td>WALK-UP APT. OVER SIX FAMILIES WITH STORES</td>\n",
       "      <td>193 EAST 4 STREET</td>\n",
       "      <td>...</td>\n",
       "      <td>NaN</td>\n",
       "      <td>NaN</td>\n",
       "      <td>NaN</td>\n",
       "      <td>NaN</td>\n",
       "      <td>NaN</td>\n",
       "      <td>3.0</td>\n",
       "      <td>NaN</td>\n",
       "      <td>3.0</td>\n",
       "      <td>988623.0</td>\n",
       "      <td>203137.0</td>\n",
       "    </tr>\n",
       "  </tbody>\n",
       "</table>\n",
       "<p>5 rows × 62 columns</p>\n",
       "</div>"
      ],
      "text/plain": [
       "   borough_code borough_code_definition   neighborhood  \\\n",
       "0             1               Manhattan  ALPHABET CITY   \n",
       "1             1               Manhattan  ALPHABET CITY   \n",
       "2             1               Manhattan  ALPHABET CITY   \n",
       "3             1               Manhattan  ALPHABET CITY   \n",
       "4             1               Manhattan  ALPHABET CITY   \n",
       "\n",
       "  building_class_category_code building_class_category_code_definition  \\\n",
       "0                           07             RENTALS - WALKUP APARTMENTS   \n",
       "1                           07             RENTALS - WALKUP APARTMENTS   \n",
       "2                           07             RENTALS - WALKUP APARTMENTS   \n",
       "3                           07             RENTALS - WALKUP APARTMENTS   \n",
       "4                           07             RENTALS - WALKUP APARTMENTS   \n",
       "\n",
       "  tax_class_at_present_code  \\\n",
       "0                         2   \n",
       "1                         2   \n",
       "2                        2A   \n",
       "3                        2A   \n",
       "4                         2   \n",
       "\n",
       "                tax_class_at_present_code_definition  \\\n",
       "0  Includes all other property that is primarily ...   \n",
       "1  Includes all other property that is primarily ...   \n",
       "2  Includes all other property that is primarily ...   \n",
       "3  Includes all other property that is primarily ...   \n",
       "4  Includes all other property that is primarily ...   \n",
       "\n",
       "  building_class_at_present_code   building_class_at_present_code_definition  \\\n",
       "0                             C4                            OLD LAW TENEMENT   \n",
       "1                             C7  WALK-UP APT. OVER SIX FAMILIES WITH STORES   \n",
       "2                             C2                        FIVE TO SIX FAMILIES   \n",
       "3                             C2                        FIVE TO SIX FAMILIES   \n",
       "4                             C7  WALK-UP APT. OVER SIX FAMILIES WITH STORES   \n",
       "\n",
       "             address     ...      exempt_value_land  exempt_value_total  \\\n",
       "0  738 EAST 6 STREET     ...                    NaN                 NaN   \n",
       "1        27 AVENUE C     ...                    NaN                 NaN   \n",
       "2       151 AVENUE B     ...                    NaN                 NaN   \n",
       "3       153 AVENUE B     ...                    NaN                 NaN   \n",
       "4  193 EAST 4 STREET     ...                    NaN                 NaN   \n",
       "\n",
       "   year_altered_one  year_altered_two  historical_district_name  \\\n",
       "0               NaN               NaN                       NaN   \n",
       "1               NaN               NaN                       NaN   \n",
       "2               NaN               NaN                       NaN   \n",
       "3            1984.0               NaN                       NaN   \n",
       "4               NaN               NaN                       NaN   \n",
       "\n",
       "   maximum_allowable_residential_far  maximum_allowable_commercial_far  \\\n",
       "0                                4.0                               NaN   \n",
       "1                                4.0                               NaN   \n",
       "2                                4.0                               NaN   \n",
       "3                                4.0                               NaN   \n",
       "4                                3.0                               NaN   \n",
       "\n",
       "   maximum_allowable_facility_far  x_coordinate y_coordinate  \n",
       "0                             4.0      990363.0     202588.0  \n",
       "1                             4.0      989508.0     202158.0  \n",
       "2                             4.0      989831.0     203960.0  \n",
       "3                             4.0      989833.0     203986.0  \n",
       "4                             3.0      988623.0     203137.0  \n",
       "\n",
       "[5 rows x 62 columns]"
      ]
     },
     "execution_count": 6,
     "metadata": {},
     "output_type": "execute_result"
    }
   ],
   "source": [
    "data.head()"
   ]
  },
  {
   "cell_type": "code",
   "execution_count": null,
   "metadata": {
    "collapsed": true
   },
   "outputs": [],
   "source": [
    "def drop_rows_where_col_is_nan(df, col_name):\n",
    "    df = df[pd.notnull(df[col_name])]\n",
    "    return(df)"
   ]
  },
  {
   "cell_type": "code",
   "execution_count": null,
   "metadata": {
    "collapsed": true
   },
   "outputs": [],
   "source": [
    "def drop_definition(df):\n",
    "    keyword = 'definition';\n",
    "    cols = [c for c in df.columns if c[-len(keyword):] != keyword];\n",
    "    return(df[cols])"
   ]
  },
  {
   "cell_type": "code",
   "execution_count": null,
   "metadata": {
    "collapsed": true
   },
   "outputs": [],
   "source": [
    "def replace_nan_by_zero(df, col_name):\n",
    "    df[col_name] = df[col_name].fillna(0)\n",
    "    return(df)"
   ]
  },
  {
   "cell_type": "code",
   "execution_count": null,
   "metadata": {
    "collapsed": true
   },
   "outputs": [],
   "source": [
    "def replace_nan_by_mean(df, col_name):\n",
    "    df[col_name] = df[col_name].fillna(df[col_name].mean())\n",
    "    return(df)"
   ]
  },
  {
   "cell_type": "code",
   "execution_count": null,
   "metadata": {
    "collapsed": true
   },
   "outputs": [],
   "source": [
    "def ampute_with_mean_and_add_extra_col(df, col_name):\n",
    "    for x in col_name:\n",
    "        df[x+'_amputed'] = df[x].isnull();\n",
    "        df[x] = df[x].fillna(df[x].mean())\n",
    "    return(df)"
   ]
  },
  {
   "cell_type": "code",
   "execution_count": null,
   "metadata": {
    "collapsed": true
   },
   "outputs": [],
   "source": [
    "def get_year(string):\n",
    "    return(string[:4])"
   ]
  },
  {
   "cell_type": "code",
   "execution_count": null,
   "metadata": {
    "collapsed": true
   },
   "outputs": [],
   "source": [
    "def extract_month(string):\n",
    "    return(string[5:7])"
   ]
  },
  {
   "cell_type": "code",
   "execution_count": null,
   "metadata": {
    "collapsed": true
   },
   "outputs": [],
   "source": [
    "def preprocess_function(df, fill_zero_cols=None, drop_cols=None, \n",
    "                        fill_mean_cols = None, fill_mean_add_col = None):\n",
    "    df = drop_rows_where_col_is_nan(df, 'sale_price')\n",
    "    df = drop_definition(df);\n",
    "    if(fill_zero_cols is not None):\n",
    "        df = replace_nan_by_zero(df, fill_zero_cols);\n",
    "    if(drop_cols is not None):\n",
    "        keep_cols = [c for c in df.columns if c not in drop_cols]\n",
    "        df = df[keep_cols];\n",
    "    if(fill_mean_cols is not None):\n",
    "        df = replace_nan_by_mean(df, fill_mean_cols);\n",
    "    if(fill_mean_add_col is not None):\n",
    "        df = ampute_with_mean_and_add_extra_col(df, fill_mean_add_col);\n",
    "        \n",
    "    year = df['sale_date'].apply(get_year);\n",
    "    df['sale_date'] = df['sale_date'].apply(extract_month);\n",
    "    df['sale_year'] = (year == '2018')\n",
    "    return(df)"
   ]
  },
  {
   "cell_type": "code",
   "execution_count": null,
   "metadata": {
    "collapsed": true
   },
   "outputs": [],
   "source": [
    "other_cols_to_be_dropped = ['borough_code', 'neighborhood', 'address', 'apartment_number', \n",
    "                            'total_units', 'x_coordinate', 'y_coordinate', 'owner_type', 'units_total_number_of',\n",
    "                           'historical_district_name']"
   ]
  },
  {
   "cell_type": "code",
   "execution_count": null,
   "metadata": {
    "collapsed": true
   },
   "outputs": [],
   "source": [
    "fill_zero_cols = ['residential_units', 'commercial_units', 'buildings_number_of', 'floors_number_of',\n",
    "       'units_residential_number_of', 'floor_area_total_building',\n",
    "       'floor_area_commercial', 'floor_area_residential', 'floor_area_office',\n",
    "       'floor_area_retail', 'floor_area_garage', 'floor_area_storage',\n",
    "       'floor_area_factory', 'floor_area_other', 'assessed_value_land', 'assessed_value_total',\n",
    "       'exempt_value_land', 'exempt_value_total', 'year_altered_one',\n",
    "       'year_altered_two', 'school_district', 'city_council_district',\n",
    "       'fire_company', 'police_precinct', 'health_center_district',\n",
    "                 'tax_class_at_present_code', 'building_class_at_present_code', 'year_built']"
   ]
  },
  {
   "cell_type": "code",
   "execution_count": null,
   "metadata": {
    "collapsed": true
   },
   "outputs": [],
   "source": [
    "fill_mean_cols = ['maximum_allowable_residential_far', 'maximum_allowable_commercial_far', \n",
    "                'maximum_allowable_facility_far']"
   ]
  },
  {
   "cell_type": "code",
   "execution_count": null,
   "metadata": {
    "collapsed": true
   },
   "outputs": [],
   "source": [
    "fill_mean_add_extra_col = ['land_square_feet', 'gross_square_feet']"
   ]
  },
  {
   "cell_type": "code",
   "execution_count": null,
   "metadata": {
    "collapsed": true
   },
   "outputs": [],
   "source": [
    "df_processed = preprocess_function(data, drop_cols=other_cols_to_be_dropped, \n",
    "                                   fill_zero_cols=fill_zero_cols, fill_mean_cols=fill_mean_cols,\n",
    "                                  fill_mean_add_col = fill_mean_add_extra_col)"
   ]
  },
  {
   "cell_type": "code",
   "execution_count": null,
   "metadata": {
    "collapsed": true
   },
   "outputs": [],
   "source": [
    "df_processed.isnull().sum()/df_processed.shape[0]"
   ]
  },
  {
   "cell_type": "code",
   "execution_count": null,
   "metadata": {
    "collapsed": true
   },
   "outputs": [],
   "source": [
    "from sklearn import tree\n",
    "clf = tree.DecisionTreeClassifier()"
   ]
  },
  {
   "cell_type": "code",
   "execution_count": null,
   "metadata": {
    "collapsed": true
   },
   "outputs": [],
   "source": [
    "df_processed = df_processed.set_index('sale_price').reset_index()"
   ]
  },
  {
   "cell_type": "code",
   "execution_count": null,
   "metadata": {
    "collapsed": true
   },
   "outputs": [],
   "source": [
    "char_cols = df_processed.dtypes.pipe(lambda x: x[x == 'object']).index\n",
    "label_mapping = {}\n",
    "\n",
    "for c in char_cols:\n",
    "    df_processed[c], label_mapping[c] = pd.factorize(df_processed[c])"
   ]
  },
  {
   "cell_type": "code",
   "execution_count": null,
   "metadata": {
    "collapsed": true
   },
   "outputs": [],
   "source": [
    "clf.fit(df_processed.iloc[:, 1:], df_processed.iloc[:, 0])"
   ]
  },
  {
   "cell_type": "code",
   "execution_count": null,
   "metadata": {
    "collapsed": true
   },
   "outputs": [],
   "source": []
  },
  {
   "cell_type": "code",
   "execution_count": null,
   "metadata": {
    "collapsed": true
   },
   "outputs": [],
   "source": []
  }
 ],
 "metadata": {
  "kernelspec": {
   "display_name": "Python 3",
   "language": "python",
   "name": "python3"
  },
  "language_info": {
   "codemirror_mode": {
    "name": "ipython",
    "version": 3
   },
   "file_extension": ".py",
   "mimetype": "text/x-python",
   "name": "python",
   "nbconvert_exporter": "python",
   "pygments_lexer": "ipython3",
   "version": "3.6.2"
  }
 },
 "nbformat": 4,
 "nbformat_minor": 2
}
